{
 "cells": [
  {
   "cell_type": "code",
   "execution_count": 1,
   "metadata": {},
   "outputs": [],
   "source": [
    "train_file_path=r\"D:\\Datascience_Projects\\ML_Credit_card_default_predictions\\credit\\artifact\\data_ingestion\\2022-08-03-22-30-46\\ingested_data\\train\\UCI_Credit_Card.csv\"\n",
    "test_file_path=r\"D:\\Datascience_Projects\\ML_Credit_card_default_predictions\\credit\\artifact\\data_ingestion\\2022-08-03-22-30-46\\ingested_data\\test\\UCI_Credit_Card.csv\""
   ]
  },
  {
   "cell_type": "code",
   "execution_count": 2,
   "metadata": {},
   "outputs": [],
   "source": [
    "import pandas as pd\n",
    "train_df=pd.read_csv(train_file_path)\n",
    "test_df=pd.read_csv(test_file_path)"
   ]
  },
  {
   "cell_type": "code",
   "execution_count": 3,
   "metadata": {},
   "outputs": [
    {
     "data": {
      "text/plain": [
       "(24000, 25)"
      ]
     },
     "execution_count": 3,
     "metadata": {},
     "output_type": "execute_result"
    }
   ],
   "source": [
    "train_df.shape"
   ]
  },
  {
   "cell_type": "code",
   "execution_count": 4,
   "metadata": {},
   "outputs": [
    {
     "data": {
      "text/plain": [
       "(6000, 25)"
      ]
     },
     "execution_count": 4,
     "metadata": {},
     "output_type": "execute_result"
    }
   ],
   "source": [
    "test_df.shape"
   ]
  },
  {
   "cell_type": "code",
   "execution_count": 6,
   "metadata": {},
   "outputs": [
    {
     "name": "stdout",
     "output_type": "stream",
     "text": [
      "0    77.879167\n",
      "1    22.120833\n",
      "Name: default.payment.next.month, dtype: float64\n"
     ]
    }
   ],
   "source": [
    "print(train_df[\"default.payment.next.month\"].value_counts()/train_df[\"default.payment.next.month\"].value_counts().sum()*100)"
   ]
  },
  {
   "cell_type": "code",
   "execution_count": 7,
   "metadata": {},
   "outputs": [
    {
     "name": "stdout",
     "output_type": "stream",
     "text": [
      "0    77.883333\n",
      "1    22.116667\n",
      "Name: default.payment.next.month, dtype: float64\n"
     ]
    }
   ],
   "source": [
    "print(test_df[\"default.payment.next.month\"].value_counts()/test_df[\"default.payment.next.month\"].value_counts().sum()*100)"
   ]
  },
  {
   "cell_type": "code",
   "execution_count": 20,
   "metadata": {},
   "outputs": [],
   "source": [
    "col=list(train_df.columns)"
   ]
  },
  {
   "cell_type": "code",
   "execution_count": 17,
   "metadata": {},
   "outputs": [],
   "source": [
    "d_type=list(train_df.dtypes)"
   ]
  },
  {
   "cell_type": "code",
   "execution_count": 21,
   "metadata": {},
   "outputs": [],
   "source": [
    "data_type=list(map(lambda x:str(x).replace(\"dtype(\",\"\"),d_type))"
   ]
  },
  {
   "cell_type": "code",
   "execution_count": 25,
   "metadata": {},
   "outputs": [],
   "source": [
    "schema=dict(zip(col,data_type))"
   ]
  },
  {
   "cell_type": "code",
   "execution_count": 23,
   "metadata": {},
   "outputs": [],
   "source": [
    "from credit.util import write_yaml_file"
   ]
  },
  {
   "cell_type": "code",
   "execution_count": 24,
   "metadata": {},
   "outputs": [
    {
     "data": {
      "text/plain": [
       "'D:\\\\Datascience_Projects\\\\ML_Credit_card_default_predictions\\\\config\\\\schema.yaml'"
      ]
     },
     "execution_count": 24,
     "metadata": {},
     "output_type": "execute_result"
    }
   ],
   "source": [
    "import os\n",
    "file_dir=\"D:\\Datascience_Projects\\ML_Credit_card_default_predictions\\config\"\n",
    "file_name=\"schema.yaml\"\n",
    "file_path =os.path.join(file_dir,file_name)\n",
    "file_path"
   ]
  },
  {
   "cell_type": "code",
   "execution_count": 26,
   "metadata": {},
   "outputs": [],
   "source": [
    "write_yaml_file(file_path=file_path,data=schema)"
   ]
  },
  {
   "cell_type": "code",
   "execution_count": 28,
   "metadata": {},
   "outputs": [],
   "source": [
    "from credit.util import read_yaml_file\n",
    "schema_dict=read_yaml_file('D:\\\\Datascience_Projects\\\\ML_Credit_card_default_predictions\\\\config\\\\schema.yaml')"
   ]
  },
  {
   "cell_type": "code",
   "execution_count": 30,
   "metadata": {},
   "outputs": [
    {
     "data": {
      "text/plain": [
       "{'AGE': 'int64',\n",
       " 'BILL_AMT1': 'float64',\n",
       " 'BILL_AMT2': 'float64',\n",
       " 'BILL_AMT3': 'float64',\n",
       " 'BILL_AMT4': 'float64',\n",
       " 'BILL_AMT5': 'float64',\n",
       " 'BILL_AMT6': 'float64',\n",
       " 'EDUCATION': 'int64',\n",
       " 'ID': 'int64',\n",
       " 'LIMIT_BAL': 'float64',\n",
       " 'MARRIAGE': 'int64',\n",
       " 'PAY_0': 'int64',\n",
       " 'PAY_2': 'int64',\n",
       " 'PAY_3': 'int64',\n",
       " 'PAY_4': 'int64',\n",
       " 'PAY_5': 'int64',\n",
       " 'PAY_6': 'int64',\n",
       " 'PAY_AMT1': 'float64',\n",
       " 'PAY_AMT2': 'float64',\n",
       " 'PAY_AMT3': 'float64',\n",
       " 'PAY_AMT4': 'float64',\n",
       " 'PAY_AMT5': 'float64',\n",
       " 'PAY_AMT6': 'float64',\n",
       " 'SEX': 'int64',\n",
       " 'default.payment.next.month': 'int64'}"
      ]
     },
     "execution_count": 30,
     "metadata": {},
     "output_type": "execute_result"
    }
   ],
   "source": [
    "schema_dict[\"columns\"]"
   ]
  },
  {
   "cell_type": "code",
   "execution_count": 1,
   "metadata": {},
   "outputs": [],
   "source": [
    "json_file=r\"D:/Datascience_Projects/ML_project_1/housing/artifact/data_validation/2022-07-27-19-13-15/report.json\"\n",
    "import json"
   ]
  },
  {
   "cell_type": "code",
   "execution_count": 4,
   "metadata": {},
   "outputs": [],
   "source": [
    "with open(json_file) as json_obj:\n",
    "    a=json.load(json_obj)"
   ]
  },
  {
   "cell_type": "code",
   "execution_count": 10,
   "metadata": {},
   "outputs": [
    {
     "data": {
      "text/plain": [
       "False"
      ]
     },
     "execution_count": 10,
     "metadata": {},
     "output_type": "execute_result"
    }
   ],
   "source": [
    "a['data_drift']['data']['metrics']['dataset_drift']"
   ]
  },
  {
   "cell_type": "code",
   "execution_count": 11,
   "metadata": {},
   "outputs": [
    {
     "ename": "AttributeError",
     "evalue": "'dict' object has no attribute 'data_drift'",
     "output_type": "error",
     "traceback": [
      "\u001b[1;31m---------------------------------------------------------------------------\u001b[0m",
      "\u001b[1;31mAttributeError\u001b[0m                            Traceback (most recent call last)",
      "\u001b[1;32m~\\AppData\\Local\\Temp\\ipykernel_19240\\1253834447.py\u001b[0m in \u001b[0;36m<module>\u001b[1;34m\u001b[0m\n\u001b[1;32m----> 1\u001b[1;33m \u001b[0ma\u001b[0m\u001b[1;33m.\u001b[0m\u001b[0mdata_drift\u001b[0m\u001b[1;33m\u001b[0m\u001b[0m\n\u001b[0m",
      "\u001b[1;31mAttributeError\u001b[0m: 'dict' object has no attribute 'data_drift'"
     ]
    }
   ],
   "source": []
  },
  {
   "cell_type": "code",
   "execution_count": null,
   "metadata": {},
   "outputs": [],
   "source": []
  }
 ],
 "metadata": {
  "kernelspec": {
   "display_name": "Python 3.7.0",
   "language": "python",
   "name": "python3"
  },
  "language_info": {
   "codemirror_mode": {
    "name": "ipython",
    "version": 3
   },
   "file_extension": ".py",
   "mimetype": "text/x-python",
   "name": "python",
   "nbconvert_exporter": "python",
   "pygments_lexer": "ipython3",
   "version": "3.7.0"
  },
  "orig_nbformat": 4,
  "vscode": {
   "interpreter": {
    "hash": "4d139205f79dc4b3d27e65d6cd4b7be9f8be3e6f649eb221de95624f17beb888"
   }
  }
 },
 "nbformat": 4,
 "nbformat_minor": 2
}
